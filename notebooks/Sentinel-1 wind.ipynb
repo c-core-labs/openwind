{
 "cells": [
  {
   "cell_type": "code",
   "execution_count": 1,
   "metadata": {},
   "outputs": [],
   "source": [
    "import os\n",
    "os.environ['DJANGO_SETTINGS_MODULE'] = 'project.settings'\n",
    "\n",
    "import django\n",
    "django.setup()\n",
    "\n",
    "from django.conf import settings"
   ]
  },
  {
   "cell_type": "code",
   "execution_count": 15,
   "metadata": {},
   "outputs": [],
   "source": [
    "import numpy as np\n",
    "import matplotlib.pyplot as plt\n",
    "from nansat.nansat import Nansat\n",
    "from nansat.domain import Domain\n",
    "from nansat.tools import haversine\n",
    "from openwind import sar_wind\n",
    "from geospaas_wind.utils import wind_from_sar_and_arome_forecast"
   ]
  },
  {
   "cell_type": "code",
   "execution_count": 22,
   "metadata": {},
   "outputs": [],
   "source": [
    "#fn = 'http://nbstds.met.no/thredds/dodsC/NBS/S1B/2019/06/30/IW/S1B_IW_GRDM_1SDV_20190630T051108_20190630T051141_016921_01FD7F_21CF.nc'\n",
    "#fn = '/home/vagrant/project/S1A_EW_GRDM_1SDH_20190704T070553_20190704T070654_027964_032853_C95D.nc'\n",
    "#fn = '/vagrant/lib/project/products/WIND_WIND_UNPROJECTED_S1A_IW_GRDM_1SDV_20190704T052723_20190704T052755_027963_03284A_AF7D.nc'\n",
    "fn = '/home/vagrant/project/products/WIND_S1A_IW_GRDM_1SDV_20190709T165618_20190709T165650_028043_032AC4_6010.nc'\n",
    "fn = '/home/vagrant/project/products/WIND_S1A_IW_GRDM_1SDV_20190709T165553_20190709T165625_028043_032AC4_4501.nc'\n",
    "#fn = '/home/vagrant/project/products/WIND_S1A_IW_GRDM_1SDV_20190704T052723_20190704T052755_027963_03284A_AF7D.nc'"
   ]
  },
  {
   "cell_type": "code",
   "execution_count": 23,
   "metadata": {},
   "outputs": [
    {
     "name": "stdout",
     "output_type": "stream",
     "text": [
      "=>Near surface wind from Sentinel-1 GRD data<=\n"
     ]
    }
   ],
   "source": [
    "n = Nansat(fn)"
   ]
  },
  {
   "cell_type": "code",
   "execution_count": 24,
   "metadata": {},
   "outputs": [
    {
     "data": {
      "image/png": "[encoded data removed]",
      "text/plain": [
       "<Figure size 432x288 with 1 Axes>"
      ]
     },
     "metadata": {
      "needs_background": "light"
     },
     "output_type": "display_data"
    }
   ],
   "source": [
    "plt.imshow(n['U'], vmin=-10, vmax=10, cmap='jet')\n",
    "plt.show()"
   ]
  },
  {
   "cell_type": "code",
   "execution_count": 6,
   "metadata": {},
   "outputs": [],
   "source": [
    "lon, lat = n.get_geolocation_grids()"
   ]
  },
  {
   "cell_type": "code",
   "execution_count": 7,
   "metadata": {},
   "outputs": [],
   "source": [
    "srs = '+proj=stere +datum=WGS84 +ellps=WGS84 +lat_0=%.2f +lon_0=%.2f +no_defs'%(np.mean(lat),np.mean(lon))"
   ]
  },
  {
   "cell_type": "code",
   "execution_count": 8,
   "metadata": {},
   "outputs": [],
   "source": [
    "xmin, xmax, ymin, ymax = -haversine(np.mean(lon),np.mean(lat),np.min(lon),np.mean(lat)), \\\n",
    "                    haversine(np.mean(lon),np.mean(lat),np.max(lon),np.mean(lat)), \\\n",
    "                    -haversine(np.mean(lon),np.mean(lat),np.mean(lon),np.min(lat)), \\\n",
    "                    haversine(np.mean(lon),np.mean(lat),np.mean(lon),np.max(lat))"
   ]
  },
  {
   "cell_type": "code",
   "execution_count": 9,
   "metadata": {},
   "outputs": [],
   "source": [
    "ext = '-te %.2f %2.f %.2f %.2f -tr 500 500' %(xmin, ymin, xmax, ymax)\n",
    "#ext = '-lle %.2f %2.f %.2f %.2f -tr 0.02 0.02' %(np.min(lon), np.min(lat), np.max(lon), np.max(lat))"
   ]
  },
  {
   "cell_type": "code",
   "execution_count": 10,
   "metadata": {},
   "outputs": [],
   "source": [
    "d = Domain(srs, ext)"
   ]
  },
  {
   "cell_type": "code",
   "execution_count": 11,
   "metadata": {},
   "outputs": [
    {
     "data": {
      "text/plain": [
       "(4.4050168488147712, 68.443189596061046)"
      ]
     },
     "execution_count": 11,
     "metadata": {},
     "output_type": "execute_result"
    }
   ],
   "source": [
    "np.min(lon), np.max(lat)"
   ]
  },
  {
   "cell_type": "code",
   "execution_count": 12,
   "metadata": {},
   "outputs": [],
   "source": [
    "#n.reproject(d)"
   ]
  },
  {
   "cell_type": "code",
   "execution_count": 13,
   "metadata": {},
   "outputs": [
    {
     "ename": "NameError",
     "evalue": "name 'd' is not defined",
     "output_type": "error",
     "traceback": [
      "\u001b[0;31m---------------------------------------------------------------------------\u001b[0m",
      "\u001b[0;31mNameError\u001b[0m                                 Traceback (most recent call last)",
      "\u001b[0;32m<ipython-input-13-3651bb5c57ec>\u001b[0m in \u001b[0;36m<module>\u001b[0;34m\u001b[0m\n\u001b[1;32m      1\u001b[0m \u001b[0ms0\u001b[0m \u001b[0;34m=\u001b[0m \u001b[0mn\u001b[0m\u001b[0;34m[\u001b[0m\u001b[0;34m'sigma0_VV'\u001b[0m\u001b[0;34m]\u001b[0m\u001b[0;34m\u001b[0m\u001b[0;34m\u001b[0m\u001b[0m\n\u001b[1;32m      2\u001b[0m \u001b[0;32mfrom\u001b[0m \u001b[0mshapely\u001b[0m\u001b[0;34m.\u001b[0m\u001b[0mgeometry\u001b[0m\u001b[0;34m.\u001b[0m\u001b[0mpolygon\u001b[0m \u001b[0;32mimport\u001b[0m \u001b[0mPolygon\u001b[0m\u001b[0;34m\u001b[0m\u001b[0;34m\u001b[0m\u001b[0m\n\u001b[0;32m----> 3\u001b[0;31m \u001b[0mlonv\u001b[0m\u001b[0;34m,\u001b[0m \u001b[0mlatv\u001b[0m \u001b[0;34m=\u001b[0m \u001b[0md\u001b[0m\u001b[0;34m.\u001b[0m\u001b[0mget_corners\u001b[0m\u001b[0;34m(\u001b[0m\u001b[0;34m)\u001b[0m\u001b[0;34m\u001b[0m\u001b[0;34m\u001b[0m\u001b[0m\n\u001b[0m\u001b[1;32m      4\u001b[0m \u001b[0mcorners\u001b[0m \u001b[0;34m=\u001b[0m \u001b[0mlist\u001b[0m\u001b[0;34m(\u001b[0m\u001b[0mzip\u001b[0m\u001b[0;34m(\u001b[0m\u001b[0mlonv\u001b[0m\u001b[0;34m,\u001b[0m\u001b[0mlatv\u001b[0m\u001b[0;34m)\u001b[0m\u001b[0;34m)\u001b[0m\u001b[0;34m\u001b[0m\u001b[0;34m\u001b[0m\u001b[0m\n\u001b[1;32m      5\u001b[0m \u001b[0mcorners\u001b[0m \u001b[0;34m=\u001b[0m \u001b[0mn\u001b[0m\u001b[0;34m.\u001b[0m\u001b[0mtransform_points\u001b[0m\u001b[0;34m(\u001b[0m\u001b[0mlonv\u001b[0m\u001b[0;34m,\u001b[0m \u001b[0mlatv\u001b[0m\u001b[0;34m,\u001b[0m \u001b[0;36m1\u001b[0m\u001b[0;34m)\u001b[0m\u001b[0;34m\u001b[0m\u001b[0;34m\u001b[0m\u001b[0m\n",
      "\u001b[0;31mNameError\u001b[0m: name 'd' is not defined"
     ]
    }
   ],
   "source": [
    "s0 = n['sigma0_VV']\n",
    "from shapely.geometry.polygon import Polygon\n",
    "#lonv, latv = d.get_corners()\n",
    "#corners = list(zip(lonv,latv))\n",
    "#corners = n.transform_points(lonv, latv, 1)\n",
    "#corners"
   ]
  },
  {
   "cell_type": "code",
   "execution_count": 14,
   "metadata": {},
   "outputs": [
    {
     "data": {
      "text/plain": [
       "array([[ nan,  nan,  nan, ...,  nan,  nan,  nan],\n",
       "       [ nan,  nan,  nan, ...,  nan,  nan,  nan],\n",
       "       [ nan,  nan,  nan, ...,  nan,  nan,  nan],\n",
       "       ..., \n",
       "       [ nan,  nan,  nan, ...,  nan,  nan,  nan],\n",
       "       [ nan,  nan,  nan, ...,  nan,  nan,  nan],\n",
       "       [ nan,  nan,  nan, ...,  nan,  nan,  nan]])"
      ]
     },
     "execution_count": 14,
     "metadata": {},
     "output_type": "execute_result"
    }
   ],
   "source": [
    "n['U']"
   ]
  },
  {
   "cell_type": "code",
   "execution_count": 13,
   "metadata": {},
   "outputs": [
    {
     "ename": "ValueError",
     "evalue": "'bboxes' cannot be empty",
     "output_type": "error",
     "traceback": [
      "\u001b[0;31m---------------------------------------------------------------------------\u001b[0m",
      "\u001b[0;31mValueError\u001b[0m                                Traceback (most recent call last)",
      "\u001b[0;32m<ipython-input-13-48baa1bb8c23>\u001b[0m in \u001b[0;36m<module>\u001b[0;34m\u001b[0m\n\u001b[1;32m     22\u001b[0m \u001b[0;31m#im = axs.imshow(10.*np.log10(s0[::-1,::-1]), extent=extent, transform=proj, cmap='gray', clim=speed_lim, interpolation=None)\u001b[0m\u001b[0;34m\u001b[0m\u001b[0;34m\u001b[0m\u001b[0;34m\u001b[0m\u001b[0m\n\u001b[1;32m     23\u001b[0m \u001b[0;31m#im = axs.imshow(amp[::-1,::-1], extent=extent, transform=PlateCarree(), clim=[0,300],cmap='gray', interpolation=None)\u001b[0m\u001b[0;34m\u001b[0m\u001b[0;34m\u001b[0m\u001b[0;34m\u001b[0m\u001b[0m\n\u001b[0;32m---> 24\u001b[0;31m \u001b[0maxs\u001b[0m\u001b[0;34m.\u001b[0m\u001b[0mcontourf\u001b[0m\u001b[0;34m(\u001b[0m\u001b[0mlon\u001b[0m\u001b[0;34m,\u001b[0m \u001b[0mlat\u001b[0m\u001b[0;34m,\u001b[0m \u001b[0mn\u001b[0m\u001b[0;34m[\u001b[0m\u001b[0;34m'U'\u001b[0m\u001b[0;34m]\u001b[0m\u001b[0;34m,\u001b[0m \u001b[0;36m40\u001b[0m\u001b[0;34m,\u001b[0m \u001b[0mvmin\u001b[0m\u001b[0;34m=\u001b[0m\u001b[0;34m-\u001b[0m\u001b[0;36m10\u001b[0m\u001b[0;34m,\u001b[0m \u001b[0mvmax\u001b[0m\u001b[0;34m=\u001b[0m\u001b[0;36m10\u001b[0m\u001b[0;34m,\u001b[0m \u001b[0mtransform\u001b[0m\u001b[0;34m=\u001b[0m\u001b[0mproj\u001b[0m\u001b[0;34m,\u001b[0m \u001b[0mcmap\u001b[0m\u001b[0;34m=\u001b[0m\u001b[0;34m'jet'\u001b[0m\u001b[0;34m)\u001b[0m\u001b[0;34m\u001b[0m\u001b[0;34m\u001b[0m\u001b[0m\n\u001b[0m\u001b[1;32m     25\u001b[0m \u001b[0;31m#axs.add_feature(pp, crs=proj, facecolor='red', edgecolor='k')\u001b[0m\u001b[0;34m\u001b[0m\u001b[0;34m\u001b[0m\u001b[0;34m\u001b[0m\u001b[0m\n\u001b[1;32m     26\u001b[0m \u001b[0;31m#axs.plot([np.min(lon), np.max(lon)], [np.min(lat), np.max(lat)],\u001b[0m\u001b[0;34m\u001b[0m\u001b[0;34m\u001b[0m\u001b[0;34m\u001b[0m\u001b[0m\n",
      "\u001b[0;32m~/Miniconda3-4.6.14-Linux-x86_64/envs/py3openwind/lib/python3.6/site-packages/cartopy/mpl/geoaxes.py\u001b[0m in \u001b[0;36mcontourf\u001b[0;34m(self, *args, **kwargs)\u001b[0m\n\u001b[1;32m   1402\u001b[0m         \u001b[0;31m# We need to compute the dataLim correctly for contours.\u001b[0m\u001b[0;34m\u001b[0m\u001b[0;34m\u001b[0m\u001b[0;34m\u001b[0m\u001b[0m\n\u001b[1;32m   1403\u001b[0m         extent = mtransforms.Bbox.union([col.get_datalim(self.transData)\n\u001b[0;32m-> 1404\u001b[0;31m                                          \u001b[0;32mfor\u001b[0m \u001b[0mcol\u001b[0m \u001b[0;32min\u001b[0m \u001b[0mresult\u001b[0m\u001b[0;34m.\u001b[0m\u001b[0mcollections\u001b[0m\u001b[0;34m\u001b[0m\u001b[0;34m\u001b[0m\u001b[0m\n\u001b[0m\u001b[1;32m   1405\u001b[0m                                          if col.get_paths()])\n\u001b[1;32m   1406\u001b[0m         \u001b[0mself\u001b[0m\u001b[0;34m.\u001b[0m\u001b[0mdataLim\u001b[0m\u001b[0;34m.\u001b[0m\u001b[0mupdate_from_data_xy\u001b[0m\u001b[0;34m(\u001b[0m\u001b[0mextent\u001b[0m\u001b[0;34m.\u001b[0m\u001b[0mget_points\u001b[0m\u001b[0;34m(\u001b[0m\u001b[0;34m)\u001b[0m\u001b[0;34m)\u001b[0m\u001b[0;34m\u001b[0m\u001b[0;34m\u001b[0m\u001b[0m\n",
      "\u001b[0;32m~/Miniconda3-4.6.14-Linux-x86_64/envs/py3openwind/lib/python3.6/site-packages/matplotlib/transforms.py\u001b[0m in \u001b[0;36munion\u001b[0;34m(bboxes)\u001b[0m\n\u001b[1;32m    699\u001b[0m         \u001b[0;34m\"\"\"Return a `Bbox` that contains all of the given *bboxes*.\"\"\"\u001b[0m\u001b[0;34m\u001b[0m\u001b[0;34m\u001b[0m\u001b[0m\n\u001b[1;32m    700\u001b[0m         \u001b[0;32mif\u001b[0m \u001b[0;32mnot\u001b[0m \u001b[0mlen\u001b[0m\u001b[0;34m(\u001b[0m\u001b[0mbboxes\u001b[0m\u001b[0;34m)\u001b[0m\u001b[0;34m:\u001b[0m\u001b[0;34m\u001b[0m\u001b[0;34m\u001b[0m\u001b[0m\n\u001b[0;32m--> 701\u001b[0;31m             \u001b[0;32mraise\u001b[0m \u001b[0mValueError\u001b[0m\u001b[0;34m(\u001b[0m\u001b[0;34m\"'bboxes' cannot be empty\"\u001b[0m\u001b[0;34m)\u001b[0m\u001b[0;34m\u001b[0m\u001b[0;34m\u001b[0m\u001b[0m\n\u001b[0m\u001b[1;32m    702\u001b[0m         \u001b[0mx0\u001b[0m \u001b[0;34m=\u001b[0m \u001b[0mnp\u001b[0m\u001b[0;34m.\u001b[0m\u001b[0mmin\u001b[0m\u001b[0;34m(\u001b[0m\u001b[0;34m[\u001b[0m\u001b[0mbbox\u001b[0m\u001b[0;34m.\u001b[0m\u001b[0mxmin\u001b[0m \u001b[0;32mfor\u001b[0m \u001b[0mbbox\u001b[0m \u001b[0;32min\u001b[0m \u001b[0mbboxes\u001b[0m\u001b[0;34m]\u001b[0m\u001b[0;34m)\u001b[0m\u001b[0;34m\u001b[0m\u001b[0;34m\u001b[0m\u001b[0m\n\u001b[1;32m    703\u001b[0m         \u001b[0mx1\u001b[0m \u001b[0;34m=\u001b[0m \u001b[0mnp\u001b[0m\u001b[0;34m.\u001b[0m\u001b[0mmax\u001b[0m\u001b[0;34m(\u001b[0m\u001b[0;34m[\u001b[0m\u001b[0mbbox\u001b[0m\u001b[0;34m.\u001b[0m\u001b[0mxmax\u001b[0m \u001b[0;32mfor\u001b[0m \u001b[0mbbox\u001b[0m \u001b[0;32min\u001b[0m \u001b[0mbboxes\u001b[0m\u001b[0;34m]\u001b[0m\u001b[0;34m)\u001b[0m\u001b[0;34m\u001b[0m\u001b[0;34m\u001b[0m\u001b[0m\n",
      "\u001b[0;31mValueError\u001b[0m: 'bboxes' cannot be empty"
     ]
    },
    {
     "data": {
      "image/png": "[encoded data removed]",
      "text/plain": [
       "<Figure size 1440x1008 with 1 Axes>"
      ]
     },
     "metadata": {
      "needs_background": "light"
     },
     "output_type": "display_data"
    }
   ],
   "source": [
    "%matplotlib inline\n",
    "import cartopy.feature as cfeature\n",
    "from cartopy import config\n",
    "import cartopy.crs as ccrs\n",
    "from cartopy.io.shapereader import Reader\n",
    "from cartopy.feature import ShapelyFeature\n",
    "\n",
    "from matplotlib.colors import LinearSegmentedColormap\n",
    "import matplotlib.pyplot as plt\n",
    "\n",
    "globe = ccrs.Globe(ellipse='WGS84', semimajor_axis=6378137, flattening=1/298.2572235604902)\n",
    "proj = ccrs.Stereographic(central_longitude=np.mean(lon), central_latitude=np.mean(lat), globe=globe)\n",
    "\n",
    "fig, axs = plt.subplots(1, 1, subplot_kw={'projection': proj}, figsize=(20, 14))\n",
    "cm = LinearSegmentedColormap.from_list('windspeed', ['#007af6', 'w', '#f04100' ], N=40)\n",
    "#extent = [xmin, xmax, ymin, ymax]\n",
    "extent = [np.min(lon), np.max(lon), np.min(lat), np.max(lat)]\n",
    "speed_lim = [-20, 0]\n",
    "land_f = cfeature.NaturalEarthFeature('physical', 'land', '10m', edgecolor='face', facecolor='lightgray')\n",
    "\n",
    "axs.set_extent(extent, crs=proj)\n",
    "#im = axs.imshow(10.*np.log10(s0[::-1,::-1]), extent=extent, transform=proj, cmap='gray', clim=speed_lim, interpolation=None)\n",
    "#im = axs.imshow(amp[::-1,::-1], extent=extent, transform=PlateCarree(), clim=[0,300],cmap='gray', interpolation=None)\n",
    "axs.contourf(lon, lat, n['U'], 40, vmin=-10, vmax=10, transform=proj, cmap='jet')\n",
    "#axs.add_feature(pp, crs=proj, facecolor='red', edgecolor='k')\n",
    "#axs.plot([np.min(lon), np.max(lon)], [np.min(lat), np.max(lat)],\n",
    "#         color='blue', linewidth=2,\n",
    "#         # transform=ccrs.Geodetic(),\n",
    "#         transform=ccrs.PlateCarree(),\n",
    "#         )\n",
    "#axs.gridlines(color='gray', linestyle='--')\n",
    "axs.add_feature(land_f)\n",
    "axs.coastlines(resolution='50m')\n",
    "axs.set_title('NRCS', y=1.05, fontsize=20)\n",
    "\n",
    "#cb = fig.colorbar(im) #, ax=axs.ravel().tolist())"
   ]
  },
  {
   "cell_type": "code",
   "execution_count": 69,
   "metadata": {},
   "outputs": [
    {
     "data": {
      "text/plain": [
       "array([ 590.65088825,  460.93278423,   17.42497463, -110.4601991 ])"
      ]
     },
     "execution_count": 69,
     "metadata": {},
     "output_type": "execute_result"
    }
   ],
   "source": [
    "corners[0]"
   ]
  },
  {
   "cell_type": "code",
   "execution_count": 92,
   "metadata": {},
   "outputs": [
    {
     "data": {
      "text/plain": [
       "([18.485705489012389, 26.615552082463516],\n",
       " [69.756390023069457, 72.181015870571031])"
      ]
     },
     "execution_count": 92,
     "metadata": {},
     "output_type": "execute_result"
    }
   ],
   "source": [
    "[np.min(lon), np.max(lon)], [np.min(lat), np.max(lat)]"
   ]
  },
  {
   "cell_type": "code",
   "execution_count": 16,
   "metadata": {},
   "outputs": [],
   "source": [
    "from shapely.geometry.polygon import Polygon"
   ]
  },
  {
   "cell_type": "code",
   "execution_count": 20,
   "metadata": {},
   "outputs": [],
   "source": [
    "Polygon?"
   ]
  },
  {
   "cell_type": "code",
   "execution_count": 22,
   "metadata": {},
   "outputs": [],
   "source": []
  },
  {
   "cell_type": "code",
   "execution_count": 25,
   "metadata": {},
   "outputs": [],
   "source": [
    "axs.add_geometries?"
   ]
  },
  {
   "cell_type": "code",
   "execution_count": 44,
   "metadata": {},
   "outputs": [],
   "source": [
    "axs.plot?"
   ]
  },
  {
   "cell_type": "code",
   "execution_count": 52,
   "metadata": {},
   "outputs": [],
   "source": [
    "d.transform_points?"
   ]
  },
  {
   "cell_type": "code",
   "execution_count": 49,
   "metadata": {},
   "outputs": [
    {
     "data": {
      "text/plain": [
       "(array([  2.27373675e-13,  -5.11590770e-13,   5.88000000e+02,\n",
       "          5.88000000e+02]),\n",
       " array([ -2.10320650e-12,   5.38000000e+02,  -6.25277607e-13,\n",
       "          5.38000000e+02]))"
      ]
     },
     "execution_count": 49,
     "metadata": {},
     "output_type": "execute_result"
    }
   ],
   "source": [
    "d.transform_points(lonv,latv,1)"
   ]
  },
  {
   "cell_type": "code",
   "execution_count": 101,
   "metadata": {},
   "outputs": [
    {
     "data": {
      "text/plain": [
       "----------------------------------------\n",
       "http://nbstds.met.no/thredds/dodsC/NBS/S1B/2019/06/30/IW/S1B_IW_GRDM_1SDV_20190630T051108_20190630T051141_016921_01FD7F_21CF.nc----------------------------------------\n",
       "Mapper: opendap_sentinel1Band : 1 lat\n",
       "  dataType: 6\n",
       "  long_name: latitude\n",
       "  name: lat\n",
       "  SourceBand: 1\n",
       "  SourceFilename: /vsimem/MS8UDEV6S4.vrt\n",
       "  standard_name: latitude\n",
       "  units: degrees_north\n",
       "  _ChunkSizes: [ 902 1047]\n",
       "Band : 2 lon\n",
       "  dataType: 6\n",
       "  long_name: longitude\n",
       "  name: lon\n",
       "  SourceBand: 2\n",
       "  SourceFilename: /vsimem/MS8UDEV6S4.vrt\n",
       "  standard_name: longitude\n",
       "  units: degrees_east\n",
       "  _ChunkSizes: [ 902 1047]\n",
       "Band : 3 Amplitude_VH\n",
       "  coordinates: lat lon\n",
       "  dataType: 6\n",
       "  grid_mapping: crsWGS84\n",
       "  long_name: Amplitude VH-polarisation\n",
       "  name: Amplitude_VH\n",
       "  polarisation: VH\n",
       "  SourceBand: 3\n",
       "  SourceFilename: /vsimem/MS8UDEV6S4.vrt\n",
       "  standard_name: surface_backwards_scattering_coefficient_of_radar_wave\n",
       "  units: 1\n",
       "  _ChunkSizes: [ 1 1803 2094]\n",
       "  _FillValue: 0\n",
       "  _Unsigned: true\n",
       "Band : 4 Amplitude_VV\n",
       "  coordinates: lat lon\n",
       "  dataType: 6\n",
       "  grid_mapping: crsWGS84\n",
       "  long_name: Amplitude VV-polarisation\n",
       "  name: Amplitude_VV\n",
       "  polarisation: VV\n",
       "  SourceBand: 4\n",
       "  SourceFilename: /vsimem/MS8UDEV6S4.vrt\n",
       "  standard_name: surface_backwards_scattering_coefficient_of_radar_wave\n",
       "  units: 1\n",
       "  _ChunkSizes: [ 1 1803 2094]\n",
       "  _FillValue: 0\n",
       "  _Unsigned: true\n",
       "Band : 5 dn_VV\n",
       "  coordinates: lat lon\n",
       "  dataType: 6\n",
       "  grid_mapping: crsWGS84\n",
       "  long_name: dn_VV calibration table\n",
       "  name: dn_VV\n",
       "  polarisation: VV\n",
       "  SourceBand: 5\n",
       "  SourceFilename: /vsimem/MS8UDEV6S4.vrt\n",
       "  units: 1\n",
       "  _ChunkSizes: [ 1 1353 1570]\n",
       "Band : 6 sigmaNought_VV\n",
       "  coordinates: lat lon\n",
       "  dataType: 6\n",
       "  grid_mapping: crsWGS84\n",
       "  long_name: sigmaNought_VV calibration table\n",
       "  name: sigmaNought_VV\n",
       "  polarisation: VV\n",
       "  SourceBand: 6\n",
       "  SourceFilename: /vsimem/MS8UDEV6S4.vrt\n",
       "  units: 1\n",
       "  _ChunkSizes: [ 1 1353 1570]\n",
       "Band : 7 gamma_VV\n",
       "  coordinates: lat lon\n",
       "  dataType: 6\n",
       "  grid_mapping: crsWGS84\n",
       "  long_name: gamma_VV calibration table\n",
       "  name: gamma_VV\n",
       "  polarisation: VV\n",
       "  SourceBand: 7\n",
       "  SourceFilename: /vsimem/MS8UDEV6S4.vrt\n",
       "  units: 1\n",
       "  _ChunkSizes: [ 1 1353 1570]\n",
       "Band : 8 betaNought_VV\n",
       "  coordinates: lat lon\n",
       "  dataType: 6\n",
       "  grid_mapping: crsWGS84\n",
       "  long_name: betaNought_VV calibration table\n",
       "  name: betaNought_VV\n",
       "  polarisation: VV\n",
       "  SourceBand: 8\n",
       "  SourceFilename: /vsimem/MS8UDEV6S4.vrt\n",
       "  units: 1\n",
       "  _ChunkSizes: [ 1 1353 1570]\n",
       "Band : 9 gamma_VH\n",
       "  coordinates: lat lon\n",
       "  dataType: 6\n",
       "  grid_mapping: crsWGS84\n",
       "  long_name: gamma_VH calibration table\n",
       "  name: gamma_VH\n",
       "  polarisation: VH\n",
       "  SourceBand: 9\n",
       "  SourceFilename: /vsimem/MS8UDEV6S4.vrt\n",
       "  units: 1\n",
       "  _ChunkSizes: [ 1 1353 1570]\n",
       "Band : 10 betaNought_VH\n",
       "  coordinates: lat lon\n",
       "  dataType: 6\n",
       "  grid_mapping: crsWGS84\n",
       "  long_name: betaNought_VH calibration table\n",
       "  name: betaNought_VH\n",
       "  polarisation: VH\n",
       "  SourceBand: 10\n",
       "  SourceFilename: /vsimem/MS8UDEV6S4.vrt\n",
       "  units: 1\n",
       "  _ChunkSizes: [ 1 1353 1570]\n",
       "Band : 11 dn_VH\n",
       "  coordinates: lat lon\n",
       "  dataType: 6\n",
       "  grid_mapping: crsWGS84\n",
       "  long_name: dn_VH calibration table\n",
       "  name: dn_VH\n",
       "  polarisation: VH\n",
       "  SourceBand: 11\n",
       "  SourceFilename: /vsimem/MS8UDEV6S4.vrt\n",
       "  units: 1\n",
       "  _ChunkSizes: [ 1 1353 1570]\n",
       "Band : 12 sigmaNought_VH\n",
       "  coordinates: lat lon\n",
       "  dataType: 6\n",
       "  grid_mapping: crsWGS84\n",
       "  long_name: sigmaNought_VH calibration table\n",
       "  name: sigmaNought_VH\n",
       "  polarisation: VH\n",
       "  SourceBand: 12\n",
       "  SourceFilename: /vsimem/MS8UDEV6S4.vrt\n",
       "  units: 1\n",
       "  _ChunkSizes: [ 1 1353 1570]\n",
       "Band : 13 noiseCorrectionMatrix_VV\n",
       "  coordinates: lat lon\n",
       "  dataType: 6\n",
       "  grid_mapping: crsWGS84\n",
       "  long_name: Thermal noise correction vector power values.\n",
       "  name: noiseCorrectionMatrix_VV\n",
       "  polarisation: VV\n",
       "  SourceBand: 13\n",
       "  SourceFilename: /vsimem/MS8UDEV6S4.vrt\n",
       "  units: 1\n",
       "  _ChunkSizes: [ 1 1353 1570]\n",
       "Band : 14 noiseCorrectionMatrix_VH\n",
       "  coordinates: lat lon\n",
       "  dataType: 6\n",
       "  grid_mapping: crsWGS84\n",
       "  long_name: Thermal noise correction vector power values.\n",
       "  name: noiseCorrectionMatrix_VH\n",
       "  polarisation: VH\n",
       "  SourceBand: 14\n",
       "  SourceFilename: /vsimem/MS8UDEV6S4.vrt\n",
       "  units: 1\n",
       "  _ChunkSizes: [ 1 1353 1570]\n",
       "Band : 15 swathList\n",
       "  coordinates: lat lon\n",
       "  dataType: 6\n",
       "  flag_meanings: IW1 IW2 IW3\n",
       "  flag_values: [1 2 3]\n",
       "  grid_mapping: crsWGS84\n",
       "  long_name: Subswath List\n",
       "  name: swathList\n",
       "  SourceBand: 15\n",
       "  SourceFilename: /vsimem/MS8UDEV6S4.vrt\n",
       "  standard_name: status_flag\n",
       "  units: 1\n",
       "  valid_range: [1 3]\n",
       "  _ChunkSizes: [1803 2094]\n",
       "  _FillValue: 0\n",
       "  _Unsigned: false\n",
       "Band : 16 incidence_angle\n",
       "  colormap: jet\n",
       "  dataType: 6\n",
       "  long_name: Incidence Angle\n",
       "  minmax: 0 90\n",
       "  name: incidence_angle\n",
       "  short_name: incidence_angle\n",
       "  SourceBand: 16\n",
       "  SourceFilename: /vsimem/MS8UDEV6S4.vrt\n",
       "  standard_name: angle_of_incidence\n",
       "  units: degrees\n",
       "  wkv: angle_of_incidence\n",
       "Band : 17 look_direction\n",
       "  colormap: jet\n",
       "  dataType: 6\n",
       "  long_name: Sensor Azimuth Angle\n",
       "  minmax: 0 360\n",
       "  name: look_direction\n",
       "  short_name: sensor_azimuth\n",
       "  SourceBand: 17\n",
       "  SourceFilename: /vsimem/MS8UDEV6S4.vrt\n",
       "  standard_name: sensor_azimuth_angle\n",
       "  units: degrees\n",
       "  wkv: sensor_azimuth_angle\n",
       "Band : 18 sigma0_VV\n",
       "  colormap: gray\n",
       "  dataType: 6\n",
       "  long_name: Normalized Radar Cross Section\n",
       "  minmax: 0 0.1\n",
       "  name: sigma0_VV\n",
       "  polarization: VV\n",
       "  short_name: sigma0\n",
       "  SourceBand: 18\n",
       "  SourceFilename: /vsimem/MS8UDEV6S4.vrt\n",
       "  standard_name: surface_backwards_scattering_coefficient_of_radar_wave\n",
       "  suffix: VV\n",
       "  units: m/m\n",
       "  wkv: surface_backwards_scattering_coefficient_of_radar_wave\n",
       "Band : 19 sigma0_VH\n",
       "  colormap: gray\n",
       "  dataType: 6\n",
       "  long_name: Normalized Radar Cross Section\n",
       "  minmax: 0 0.1\n",
       "  name: sigma0_VH\n",
       "  polarization: VH\n",
       "  short_name: sigma0\n",
       "  SourceBand: 19\n",
       "  SourceFilename: /vsimem/MS8UDEV6S4.vrt\n",
       "  standard_name: surface_backwards_scattering_coefficient_of_radar_wave\n",
       "  suffix: VH\n",
       "  units: m/m\n",
       "  wkv: surface_backwards_scattering_coefficient_of_radar_wave\n",
       "----------------------------------------\n",
       "Domain:[503 x 433]\n",
       "----------------------------------------\n",
       "Projection(gcps):\n",
       "GEOGCS[\"WGS 84\",\n",
       "    DATUM[\"WGS_1984\",\n",
       "        SPHEROID[\"WGS 84\",6378137,298.257223563]],\n",
       "    PRIMEM[\"Greenwich\",0],\n",
       "    UNIT[\"degree\",0.0174532925199433]]\n",
       "----------------------------------------\n",
       "Corners (lon, lat):\n",
       "\t ( 26.62,  71.64)  ( 19.59,  72.18)\n",
       "\t ( 24.87,  69.75)  ( 18.47,  70.26)"
      ]
     },
     "execution_count": 101,
     "metadata": {},
     "output_type": "execute_result"
    }
   ],
   "source": [
    "n"
   ]
  },
  {
   "cell_type": "code",
   "execution_count": 17,
   "metadata": {},
   "outputs": [],
   "source": [
    "from netCDF4 import Dataset\n",
    "ds = Dataset(fn+'#fillmismatch')"
   ]
  },
  {
   "cell_type": "code",
   "execution_count": 18,
   "metadata": {},
   "outputs": [
    {
     "data": {
      "text/plain": [
       "<class 'netCDF4._netCDF4.Dataset'>\n",
       "root group (NETCDF3_CLASSIC data model, file format DAP2):\n",
       "    title: Sentinel-1 GRD data\n",
       "    netcdf4_version_id: 4.4.0\n",
       "    file_creation_date: 2019-06-30T05:30:31Z\n",
       "    PRODUCT_TYPE: GRD\n",
       "    ACQUISITION_STOP_TIME: 2019-06-30T05:11:41.006912\n",
       "    ORBIT_NUMBER: 16921\n",
       "    BEAM_MODE: IW\n",
       "    SWATH: IW\n",
       "    ProductTimelinessCategory: NRT-3h\n",
       "    keywords: [Earth Science, Spectral/Engineering, RADAR, RADAR backscatter], [Earth Science, Spectral/Engineering, RADAR, RADAR imagery], [Earth Science, Spectral/Engineering, Microwave, Microwave Imagery]\n",
       "    summary: Sentinel-1 C-band SAR GRD product.\n",
       "    FACILITY_IDENTIFIER: KSAT\n",
       "    polarisation: VVVH\n",
       "    SENSOR_IDENTIFIER: SAR\n",
       "    MODE: IW\n",
       "    PIXEL_SPACING: 4.000000e+01\n",
       "    BEAM_SWATH: IW\n",
       "    SATELLITE_IDENTIFIER: SENTINEL-1\n",
       "    keywords_vocabulary: GCMD Science Keywords\n",
       "    ACQUISITION_START_TIME: 2019-06-30T05:11:08.504857\n",
       "    institution: Norwegian Meteorological Institute\n",
       "    ORBIT_DIRECTION: DESCENDING\n",
       "    LINE_SPACING: 40\n",
       "    Conventions: CF-1.6\n",
       "    MISSION_ID: S1B\n",
       "    history: 2019-06-30T05:30:31Z. Converted from SAFE to NetCDF by NBS team.\n",
       "    dimensions(sizes): gcp_index(252), time(1), x(6280), y(5409)\n",
       "    variables(dimensions): int32 \u001b[4mtime\u001b[0m(time), float32 \u001b[4mlat\u001b[0m(y,x), float32 \u001b[4mlon\u001b[0m(y,x), int16 \u001b[4mAmplitude_VH\u001b[0m(time,y,x), int16 \u001b[4mAmplitude_VV\u001b[0m(time,y,x), int32 \u001b[4mcrsWGS84\u001b[0m(), float32 \u001b[4mdn_VV\u001b[0m(time,y,x), float32 \u001b[4msigmaNought_VV\u001b[0m(time,y,x), float32 \u001b[4mgamma_VV\u001b[0m(time,y,x), float32 \u001b[4mbetaNought_VV\u001b[0m(time,y,x), float32 \u001b[4mgamma_VH\u001b[0m(time,y,x), float32 \u001b[4mbetaNought_VH\u001b[0m(time,y,x), float32 \u001b[4mdn_VH\u001b[0m(time,y,x), float32 \u001b[4msigmaNought_VH\u001b[0m(time,y,x), float32 \u001b[4mnoiseCorrectionMatrix_VV\u001b[0m(time,y,x), float32 \u001b[4mnoiseCorrectionMatrix_VH\u001b[0m(time,y,x), int8 \u001b[4mswathList\u001b[0m(y,x), float32 \u001b[4mGCP_longitude_VV\u001b[0m(gcp_index), float32 \u001b[4mGCP_line_VH\u001b[0m(gcp_index), float32 \u001b[4mGCP_line_VV\u001b[0m(gcp_index), float32 \u001b[4mGCP_pixel_VV\u001b[0m(gcp_index), float32 \u001b[4mGCP_elevationAngle_VV\u001b[0m(gcp_index), float32 \u001b[4mGCP_incidenceAngle_VV\u001b[0m(gcp_index), float32 \u001b[4mGCP_latitude_VV\u001b[0m(gcp_index), float32 \u001b[4mGCP_height_VH\u001b[0m(gcp_index), float32 \u001b[4mGCP_height_VV\u001b[0m(gcp_index), float32 \u001b[4mGCP_latitude_VH\u001b[0m(gcp_index), float32 \u001b[4mGCP_azimuthTime_VV\u001b[0m(gcp_index), float32 \u001b[4mGCP_elevationAngle_VH\u001b[0m(gcp_index), float32 \u001b[4mGCP_pixel_VH\u001b[0m(gcp_index), float32 \u001b[4mGCP_slantRangeTime_VH\u001b[0m(gcp_index), float32 \u001b[4mGCP_azimuthTime_VH\u001b[0m(gcp_index), float32 \u001b[4mGCP_longitude_VH\u001b[0m(gcp_index), float32 \u001b[4mGCP_slantRangeTime_VV\u001b[0m(gcp_index), float32 \u001b[4mGCP_incidenceAngle_VH\u001b[0m(gcp_index), int8 \u001b[4ms1Level1ProductSchema_VH\u001b[0m(), int8 \u001b[4ms1Level1ProductSchema_VV\u001b[0m(), int8 \u001b[4morbitList_VH\u001b[0m(), int8 \u001b[4mswathMergeList_VH\u001b[0m(), int8 \u001b[4mcoordinateConversionList_VH\u001b[0m(), int8 \u001b[4morbitList_VV\u001b[0m(), int8 \u001b[4mswathMergeList_VV\u001b[0m(), int8 \u001b[4mcoordinateConversionList_VV\u001b[0m()\n",
       "    groups: "
      ]
     },
     "execution_count": 18,
     "metadata": {},
     "output_type": "execute_result"
    }
   ],
   "source": [
    "ds"
   ]
  },
  {
   "cell_type": "code",
   "execution_count": 19,
   "metadata": {},
   "outputs": [
    {
     "data": {
      "text/plain": [
       "<class 'netCDF4._netCDF4.Variable'>\n",
       "int32 crsWGS84()\n",
       "    grid_mapping_name: latitude_longitude\n",
       "    semi_major_axis: 6378137\n",
       "    inverse_flattening: 298.2572235604902\n",
       "unlimited dimensions: \n",
       "current shape = ()\n",
       "filling off"
      ]
     },
     "execution_count": 19,
     "metadata": {},
     "output_type": "execute_result"
    }
   ],
   "source": [
    "ds.variables['crsWGS84']"
   ]
  },
  {
   "cell_type": "code",
   "execution_count": 20,
   "metadata": {},
   "outputs": [],
   "source": [
    "ccrs.Globe?"
   ]
  },
  {
   "cell_type": "code",
   "execution_count": 21,
   "metadata": {},
   "outputs": [],
   "source": [
    "amp = ds.variables['Amplitude_VV'][:].data[0,:,:]\n",
    "lon = ds.variables['lon'][:].data\n",
    "lat = ds.variables['lat'][:].data"
   ]
  },
  {
   "cell_type": "code",
   "execution_count": 114,
   "metadata": {},
   "outputs": [
    {
     "data": {
      "text/plain": [
       "(5409, 6280)"
      ]
     },
     "execution_count": 114,
     "metadata": {},
     "output_type": "execute_result"
    }
   ],
   "source": [
    "amp.shape"
   ]
  },
  {
   "cell_type": "code",
   "execution_count": 116,
   "metadata": {},
   "outputs": [
    {
     "data": {
      "text/plain": [
       "array([[ 63,  66,  72, ...,   0,   0,   0],\n",
       "       [ 82,  82,  87, ...,   0,   0,   0],\n",
       "       [107, 108, 108, ...,   0,   0,   0],\n",
       "       ..., \n",
       "       [  0,   0,   0, ...,   0,   0,   0],\n",
       "       [  0,   0,   0, ...,   0,   0,   0],\n",
       "       [  0,   0,   0, ...,   0,   0,   0]], dtype=uint16)"
      ]
     },
     "execution_count": 116,
     "metadata": {},
     "output_type": "execute_result"
    }
   ],
   "source": [
    "amp"
   ]
  },
  {
   "cell_type": "code",
   "execution_count": 121,
   "metadata": {},
   "outputs": [],
   "source": [
    "plt.contourf?"
   ]
  },
  {
   "cell_type": "code",
   "execution_count": 28,
   "metadata": {},
   "outputs": [
    {
     "data": {
      "text/html": [
       "<div style=\"width:100%;\"><div style=\"position:relative;width:100%;height:0;padding-bottom:60%;\"><iframe src=\"data:text/html;charset=utf-8;base64,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\" style=\"position:absolute;width:100%;height:100%;left:0;top:0;border:none !important;\" allowfullscreen webkitallowfullscreen mozallowfullscreen></iframe></div></div>"
      ],
      "text/plain": [
       "<folium.folium.Map at 0x7f91570ddcc0>"
      ]
     },
     "execution_count": 28,
     "metadata": {},
     "output_type": "execute_result"
    }
   ],
   "source": [
    "import folium\n",
    "geoloc = d.get_border_geojson()\n",
    "geoloc_n = n.get_border_geojson()\n",
    "f = folium.Map()\n",
    "folium.GeoJson(geoloc).add_to(f)\n",
    "folium.GeoJson(geoloc_n).add_to(f)\n",
    "f"
   ]
  },
  {
   "cell_type": "code",
   "execution_count": 29,
   "metadata": {},
   "outputs": [
    {
     "data": {
      "text/plain": [
       "(497.98844762018444, 497.63173124303796)"
      ]
     },
     "execution_count": 29,
     "metadata": {},
     "output_type": "execute_result"
    }
   ],
   "source": [
    "d.get_pixelsize_meters()"
   ]
  },
  {
   "cell_type": "code",
   "execution_count": 30,
   "metadata": {},
   "outputs": [
    {
     "data": {
      "text/plain": [
       "(503.06798246869022, 496.92885522533169)"
      ]
     },
     "execution_count": 30,
     "metadata": {},
     "output_type": "execute_result"
    }
   ],
   "source": [
    "n.get_pixelsize_meters()"
   ]
  },
  {
   "cell_type": "code",
   "execution_count": 32,
   "metadata": {},
   "outputs": [
    {
     "data": {
      "text/plain": [
       "array([[ 71.63549805,  71.63683319,  71.63816833, ...,  72.17719269,\n",
       "         72.17802429,  72.17884827],\n",
       "       [ 71.63115692,  71.63248444,  71.63381958, ...,  72.17276001,\n",
       "         72.17358398,  72.17441559],\n",
       "       [ 71.62680817,  71.62813568,  71.62947083, ...,  72.1683197 ,\n",
       "         72.16915131,  72.16997528],\n",
       "       ..., \n",
       "       [ 69.76225281,  69.76348877,  69.76472473, ...,  70.26823425,\n",
       "         70.26902008,  70.26979828],\n",
       "       [ 69.75784302,  69.75907898,  69.76031494, ...,  70.26376343,\n",
       "         70.26454163,  70.26532745],\n",
       "       [ 69.7534256 ,  69.75466156,  69.75589752, ...,  70.25928497,\n",
       "         70.2600708 ,  70.260849  ]], dtype=float32)"
      ]
     },
     "execution_count": 32,
     "metadata": {},
     "output_type": "execute_result"
    }
   ],
   "source": [
    "n[1]"
   ]
  },
  {
   "cell_type": "code",
   "execution_count": 33,
   "metadata": {},
   "outputs": [],
   "source": [
    "n.reproject(d)"
   ]
  },
  {
   "cell_type": "code",
   "execution_count": null,
   "metadata": {},
   "outputs": [],
   "source": [
    "n[1]"
   ]
  },
  {
   "cell_type": "code",
   "execution_count": null,
   "metadata": {},
   "outputs": [],
   "source": []
  }
 ],
 "metadata": {
  "kernelspec": {
   "display_name": "Python 3",
   "language": "python",
   "name": "python3"
  },
  "language_info": {
   "codemirror_mode": {
    "name": "ipython",
    "version": 3
   },
   "file_extension": ".py",
   "mimetype": "text/x-python",
   "name": "python",
   "nbconvert_exporter": "python",
   "pygments_lexer": "ipython3",
   "version": "3.6.7"
  }
 },
 "nbformat": 4,
 "nbformat_minor": 2
}
